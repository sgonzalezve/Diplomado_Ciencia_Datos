{
 "cells": [
  {
   "cell_type": "markdown",
   "id": "8c8d0394",
   "metadata": {},
   "source": [
    "[![Open in Colab](https://colab.research.google.com/assets/colab-badge.svg)](https://colab.research.google.com/github/sgonzalezve/Diplomado_Ciencia_Datos/blob/master/Tareas/Tarea%203%20POO%20Inteligencia%20Artificial%20Parte%202.ipynb)"
   ]
  },
  {
   "cell_type": "markdown",
   "id": "ecdc6e2c",
   "metadata": {},
   "source": [
    "<img src = \"Logounal.jpg\" width=\"220\">"
   ]
  },
  {
   "cell_type": "markdown",
   "id": "bac06409",
   "metadata": {},
   "source": [
    "3. Escriba una clase con las siguientes funcionalidades:\n",
    "  - Al instanciar un objeto, lee un conjunto de datos numéricos. Por ejemplo puede usar el mismo conjunto de datos iris.csv. Instancie los datos en un dataframe de Pandas\n",
    "  - Implemente un método que calcule las estadísticas descriptivas básicas de cada una de las variables.\n",
    "  - Implemente un método que entregue los nombre de las variables disponibles.\n",
    "  - Implemente un método que reciba el nombre de una variable disponible dentro del objeto ( en el  dataframe) y regrese: sus estadísticas básicas:  media, mediana, desviación, percentiles q25, q50, q75 y dibuje un histograma de la distribución de la variable."
   ]
  },
  {
   "cell_type": "code",
   "execution_count": 7,
   "id": "df2a3d06",
   "metadata": {},
   "outputs": [],
   "source": [
    "import pandas as pd\n",
    "import matplotlib.pyplot as plt\n",
    "import numpy as np\n",
    "\n",
    "class Estad_desc:\n",
    "    def __init__(self, direccion_archivo):\n",
    "        self.df = pd.read_csv(direccion_archivo)\n",
    "    \n",
    "    def describe(self):\n",
    "        return self.df.describe()\n",
    "    \n",
    "    def get_variable_names(self):\n",
    "        return list(self.df.columns)\n",
    "    \n",
    "    def variable_stats(self, var_name):\n",
    "        if var_name not in self.df.columns:\n",
    "            raise ValueError(f\"La variable {var_name} no se encuentra en el conjunto de datos.\")\n",
    "        \n",
    "        var_data = self.df[var_name]\n",
    "        \n",
    "        mean = var_data.mean()\n",
    "        median = var_data.median()\n",
    "        std = var_data.std()\n",
    "        q25, q50, q75 = np.percentile(var_data, [25, 50, 75])\n",
    "        \n",
    "        plt.hist(var_data, bins='auto')\n",
    "        plt.title(f\"Histograma de la variable {var_name}\")\n",
    "        plt.xlabel(var_name)\n",
    "        plt.ylabel(\"Frecuencia\")\n",
    "        plt.show()\n",
    "        \n",
    "        return {\n",
    "            'La media equivale a': mean,\n",
    "            'La mediana equivale a': median,\n",
    "            'La desviación típica equivale a': std,\n",
    "            'El cuartil 1er equivale a': q25,\n",
    "            'El cuartil 2do equivale a': q50,\n",
    "            'El cuartil 3er equivale a': q75\n",
    "        }\n"
   ]
  },
  {
   "cell_type": "markdown",
   "id": "4d95ef11",
   "metadata": {},
   "source": [
    "#### Prueba"
   ]
  },
  {
   "cell_type": "markdown",
   "id": "ac9e8e02",
   "metadata": {},
   "source": [
    "Inicialización de la instancia"
   ]
  },
  {
   "cell_type": "code",
   "execution_count": 8,
   "id": "ffe271c4",
   "metadata": {},
   "outputs": [],
   "source": [
    "iris = Estad_desc('iris.csv')"
   ]
  },
  {
   "cell_type": "markdown",
   "id": "b56a8a30",
   "metadata": {},
   "source": [
    "Método que calcule las estadísticas descriptivas básicas de cada una de las variables"
   ]
  },
  {
   "cell_type": "code",
   "execution_count": 9,
   "id": "195afe69",
   "metadata": {
    "scrolled": true
   },
   "outputs": [
    {
     "data": {
      "text/html": [
       "<div>\n",
       "<style scoped>\n",
       "    .dataframe tbody tr th:only-of-type {\n",
       "        vertical-align: middle;\n",
       "    }\n",
       "\n",
       "    .dataframe tbody tr th {\n",
       "        vertical-align: top;\n",
       "    }\n",
       "\n",
       "    .dataframe thead th {\n",
       "        text-align: right;\n",
       "    }\n",
       "</style>\n",
       "<table border=\"1\" class=\"dataframe\">\n",
       "  <thead>\n",
       "    <tr style=\"text-align: right;\">\n",
       "      <th></th>\n",
       "      <th>Sepal.Length</th>\n",
       "      <th>Sepal.Width</th>\n",
       "      <th>Petal.Length</th>\n",
       "      <th>Petal.Width</th>\n",
       "    </tr>\n",
       "  </thead>\n",
       "  <tbody>\n",
       "    <tr>\n",
       "      <th>count</th>\n",
       "      <td>150.000000</td>\n",
       "      <td>150.000000</td>\n",
       "      <td>150.000000</td>\n",
       "      <td>150.000000</td>\n",
       "    </tr>\n",
       "    <tr>\n",
       "      <th>mean</th>\n",
       "      <td>5.843333</td>\n",
       "      <td>3.057333</td>\n",
       "      <td>3.758000</td>\n",
       "      <td>1.199333</td>\n",
       "    </tr>\n",
       "    <tr>\n",
       "      <th>std</th>\n",
       "      <td>0.828066</td>\n",
       "      <td>0.435866</td>\n",
       "      <td>1.765298</td>\n",
       "      <td>0.762238</td>\n",
       "    </tr>\n",
       "    <tr>\n",
       "      <th>min</th>\n",
       "      <td>4.300000</td>\n",
       "      <td>2.000000</td>\n",
       "      <td>1.000000</td>\n",
       "      <td>0.100000</td>\n",
       "    </tr>\n",
       "    <tr>\n",
       "      <th>25%</th>\n",
       "      <td>5.100000</td>\n",
       "      <td>2.800000</td>\n",
       "      <td>1.600000</td>\n",
       "      <td>0.300000</td>\n",
       "    </tr>\n",
       "    <tr>\n",
       "      <th>50%</th>\n",
       "      <td>5.800000</td>\n",
       "      <td>3.000000</td>\n",
       "      <td>4.350000</td>\n",
       "      <td>1.300000</td>\n",
       "    </tr>\n",
       "    <tr>\n",
       "      <th>75%</th>\n",
       "      <td>6.400000</td>\n",
       "      <td>3.300000</td>\n",
       "      <td>5.100000</td>\n",
       "      <td>1.800000</td>\n",
       "    </tr>\n",
       "    <tr>\n",
       "      <th>max</th>\n",
       "      <td>7.900000</td>\n",
       "      <td>4.400000</td>\n",
       "      <td>6.900000</td>\n",
       "      <td>2.500000</td>\n",
       "    </tr>\n",
       "  </tbody>\n",
       "</table>\n",
       "</div>"
      ],
      "text/plain": [
       "       Sepal.Length  Sepal.Width  Petal.Length  Petal.Width\n",
       "count    150.000000   150.000000    150.000000   150.000000\n",
       "mean       5.843333     3.057333      3.758000     1.199333\n",
       "std        0.828066     0.435866      1.765298     0.762238\n",
       "min        4.300000     2.000000      1.000000     0.100000\n",
       "25%        5.100000     2.800000      1.600000     0.300000\n",
       "50%        5.800000     3.000000      4.350000     1.300000\n",
       "75%        6.400000     3.300000      5.100000     1.800000\n",
       "max        7.900000     4.400000      6.900000     2.500000"
      ]
     },
     "execution_count": 9,
     "metadata": {},
     "output_type": "execute_result"
    }
   ],
   "source": [
    "iris.describe()"
   ]
  },
  {
   "cell_type": "markdown",
   "id": "347e2bf4",
   "metadata": {},
   "source": [
    "Método que entregue los nombre de las variables disponibles"
   ]
  },
  {
   "cell_type": "code",
   "execution_count": 10,
   "id": "976261b9",
   "metadata": {},
   "outputs": [
    {
     "data": {
      "text/plain": [
       "['Sepal.Length', 'Sepal.Width', 'Petal.Length', 'Petal.Width', 'Species']"
      ]
     },
     "execution_count": 10,
     "metadata": {},
     "output_type": "execute_result"
    }
   ],
   "source": [
    "iris.get_variable_names()"
   ]
  },
  {
   "cell_type": "markdown",
   "id": "88a9bc59",
   "metadata": {},
   "source": [
    "Método que reciba el nombre de una variable disponible dentro del objeto ( en el dataframe) y regrese: sus estadísticas básicas: media, mediana, desviación, percentiles q25, q50, q75 y dibuje un histograma de la distribución de la variable"
   ]
  },
  {
   "cell_type": "code",
   "execution_count": 11,
   "id": "f2af6fa1",
   "metadata": {},
   "outputs": [
    {
     "data": {
      "image/png": "[encoded data removed]",
      "text/plain": [
       "<Figure size 432x288 with 1 Axes>"
      ]
     },
     "metadata": {
      "needs_background": "light"
     },
     "output_type": "display_data"
    },
    {
     "data": {
      "text/plain": [
       "{'La media equivale a': 3.057333333333334,\n",
       " 'La mediana equivale a': 3.0,\n",
       " 'La desviación típica equivale a': 0.435866284936698,\n",
       " 'El cuartil 1er equivale a': 2.8,\n",
       " 'El cuartil 2do equivale a': 3.0,\n",
       " 'El cuartil 3er equivale a': 3.3}"
      ]
     },
     "execution_count": 11,
     "metadata": {},
     "output_type": "execute_result"
    }
   ],
   "source": [
    "iris.variable_stats('Sepal.Width')"
   ]
  }
 ],
 "metadata": {
  "kernelspec": {
   "display_name": "Python 3 (ipykernel)",
   "language": "python",
   "name": "python3"
  },
  "language_info": {
   "codemirror_mode": {
    "name": "ipython",
    "version": 3
   },
   "file_extension": ".py",
   "mimetype": "text/x-python",
   "name": "python",
   "nbconvert_exporter": "python",
   "pygments_lexer": "ipython3",
   "version": "3.9.12"
  }
 },
 "nbformat": 4,
 "nbformat_minor": 5
}
