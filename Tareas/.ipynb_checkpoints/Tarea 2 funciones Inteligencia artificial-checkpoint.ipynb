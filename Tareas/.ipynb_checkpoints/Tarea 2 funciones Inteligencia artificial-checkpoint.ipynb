{
 "cells": [
  {
   "cell_type": "markdown",
   "id": "b0c28b9c",
   "metadata": {},
   "source": [
    "[![Open in Colab](https://colab.research.google.com/assets/colab-badge.svg)](https://colab.research.google.com/github/sgonzalezve/Diplomado_Ciencia_Datos/blob/master/Tareas/Primer%20tarea%20IA%20.ipynb)"
   ]
  },
  {
   "cell_type": "markdown",
   "id": "f75f705d",
   "metadata": {},
   "source": [
    "\n",
    "<img src = \"Logounal.jpg\" width=\"220\">"
   ]
  },
  {
   "cell_type": "markdown",
   "id": "47a3400e",
   "metadata": {},
   "source": [
    "1. Escriba una función  que reciba la fecha de nacimiento de un a persona y calcule la edad de la persona"
   ]
  },
  {
   "cell_type": "code",
   "execution_count": 27,
   "id": "2b603947",
   "metadata": {},
   "outputs": [
    {
     "name": "stdout",
     "output_type": "stream",
     "text": [
      "Ingrese el año de nacimiento\t1999\n",
      "Ingrese el mes de nacimiento\t02\n",
      "Ingrese el dia de nacimiento\t20\n",
      "Según la fecha de nacimiento ingresada la edad equivale a 23 años de edad.\n"
     ]
    }
   ],
   "source": [
    "# Librerías a usar\n",
    "from datetime import datetime\n",
    "\n",
    "# Definición de la función\n",
    "def edad(x):\n",
    "    \n",
    "    if datetime.today().year > nacimiento.year:\n",
    "        today = datetime.now()\n",
    "        rectifier = datetime(today.year, nacimiento.month, nacimiento.day) >= today\n",
    "        edad = datetime.today().year - nacimiento.year - rectifier\n",
    "        return print('Según la fecha de nacimiento ingresada la edad equivale a', edad, 'años de edad.')\n",
    "    else:\n",
    "        return print('Error en la fecha de nacimiento')\n",
    "\n",
    "y = int(input('Ingrese el año de nacimiento\\t'))\n",
    "m = int(input('Ingrese el mes de nacimiento\\t'))\n",
    "d = int(input('Ingrese el dia de nacimiento\\t'))\n",
    "nacimiento = datetime(y, m, d)\n",
    "edad(nacimiento)"
   ]
  },
  {
   "cell_type": "markdown",
   "id": "6335ae4f",
   "metadata": {},
   "source": [
    "2. Crea una función EscribirCentrado, que reciba como parámetro un texto y lo escriba centrado en pantalla (suponiendo una anchura de 80 columnas; pista: deberás escribir 40 - longitud/2 espacios antes del texto).  \n"
   ]
  },
  {
   "cell_type": "code",
   "execution_count": 28,
   "id": "5825c000",
   "metadata": {},
   "outputs": [
    {
     "name": "stdout",
     "output_type": "stream",
     "text": [
      "                                      *****\n",
      "                               Este es el curso de\n",
      "                             Inteligencia Artificial\n",
      "                                      *****\n"
     ]
    }
   ],
   "source": [
    "def EscribirCentrado(x):\n",
    "    rep = int(40-(len(x)/2))\n",
    "    return print(' ' * rep, x)\n",
    "EscribirCentrado('*****')\n",
    "EscribirCentrado('Este es el curso de')\n",
    "EscribirCentrado('Inteligencia Artificial')\n",
    "EscribirCentrado('*****')\n"
   ]
  },
  {
   "cell_type": "markdown",
   "id": "56ff7b6e",
   "metadata": {},
   "source": [
    "\n",
    "3. Construya una función decorada que reciba un texto y lo escriba marcado con Markdown en itálica y resaltada (bold). Revise la lección de decoradores, no vista en clase.\n",
    "\n"
   ]
  },
  {
   "cell_type": "code",
   "execution_count": 29,
   "id": "bdecf1ee",
   "metadata": {},
   "outputs": [
    {
     "name": "stdout",
     "output_type": "stream",
     "text": [
      "<b><i>hola mundo</i></b>\n"
     ]
    }
   ],
   "source": [
    "# decoradores\n",
    "def make_bold(fn):\n",
    "    def makebold_wrapper():\n",
    "        return \"<b>\" + fn() + \"</b>\"\n",
    "    return makebold_wrapper\n",
    "\n",
    "def make_italic(fn):\n",
    "    def makeitalic_wrapper():\n",
    "        return \"<i>\" + fn() + \"</i>\"\n",
    "    return makeitalic_wrapper\n",
    "\n",
    "# aplica los decoradores\n",
    "\n",
    "@make_bold\n",
    "@make_italic\n",
    "def hello():\n",
    "    return 'hola mundo'\n",
    "\n",
    "\n",
    "print(hello())"
   ]
  },
  {
   "cell_type": "markdown",
   "id": "f8cef950",
   "metadata": {},
   "source": [
    "4.  Crea un programa que pida dos número enteros al usuario y diga si alguno de ellos es múltiplo del otro. \n"
   ]
  },
  {
   "cell_type": "code",
   "execution_count": 30,
   "id": "788b0286",
   "metadata": {},
   "outputs": [
    {
     "name": "stdout",
     "output_type": "stream",
     "text": [
      "Ingrese un numero 12\n",
      "Ingrese un numero 2\n",
      "En efecto 2 es multiplo de 12\n"
     ]
    }
   ],
   "source": [
    "def multiplo(x , y):\n",
    "    if x % y == 0:\n",
    "        print('En efecto {} es multiplo de {}'.format(y, x))\n",
    "    elif y % x == 0:\n",
    "        print('En efecto {} es multiplo de {}'.format(x, y))\n",
    "    else:\n",
    "        print('No son multiplos {} y {}'.format(x, y))\n",
    "\n",
    "a = int(input('Ingrese un numero '))\n",
    "b = int(input('Ingrese un numero '))\n",
    "multiplo(a, b)"
   ]
  },
  {
   "cell_type": "markdown",
   "id": "d1496b92",
   "metadata": {},
   "source": [
    "5. Crear una función re reciba una lista  de 24 valores de temperatura leída  hora en un día y que calcule la temperatura media  Cree una lista con 24 valores de temperatura de un día de Bogotá y pruebe su función. Invente los datos.\n"
   ]
  },
  {
   "cell_type": "code",
   "execution_count": 31,
   "id": "d2a0b8f6",
   "metadata": {},
   "outputs": [
    {
     "name": "stdout",
     "output_type": "stream",
     "text": [
      "La temperatura media fue equivalente a 14.77083333333333\n"
     ]
    }
   ],
   "source": [
    "def re(x):\n",
    "    return print('La temperatura media fue equivalente a', sum(x)/len(x))\n",
    "a = [15, 12, 15, 16, 17, 16, 16.4, 13, 12.7, 12, 14.7, 17.2, 13.3, 14.7, 14.7,14.7,14.7,14.7,14.5,14.7,14.3,16.5,13.7,17]\n",
    "re(a)"
   ]
  },
  {
   "cell_type": "markdown",
   "id": "a40d6b84",
   "metadata": {},
   "source": [
    "\n",
    "\n",
    "5. Crea un función “ConvertirEspaciado”, que reciba como parámetro un texto y devuelve una cadena con un espacio adicional tras cada letra. Por ejemplo, “Hola, tú” devolverá “H o l a , t ú “.  Pruebe \n",
    "\n"
   ]
  },
  {
   "cell_type": "code",
   "execution_count": 32,
   "id": "8f135c19",
   "metadata": {},
   "outputs": [
    {
     "data": {
      "text/plain": [
       "'H o l a ,   t ú'"
      ]
     },
     "execution_count": 32,
     "metadata": {},
     "output_type": "execute_result"
    }
   ],
   "source": [
    "def ConvertirEspaciado(x):\n",
    "    a = ' '\n",
    "    return a.join(x)\n",
    "ConvertirEspaciado('Hola, tú')\n"
   ]
  },
  {
   "cell_type": "markdown",
   "id": "6838781c",
   "metadata": {},
   "source": [
    "6. Crea una función “calcularMaxMin” que recibe una arreglo con valores numérico y devuelve el valor máximo y el mínimo. \n"
   ]
  },
  {
   "cell_type": "code",
   "execution_count": 33,
   "id": "a4b246b3",
   "metadata": {},
   "outputs": [
    {
     "name": "stdout",
     "output_type": "stream",
     "text": [
      "El numero maximo es 3 y el mínimo es -1\n"
     ]
    }
   ],
   "source": [
    "def calcularMaxMin(x):\n",
    "    maxi = -9999\n",
    "    mini = 9999\n",
    "    for i in x:\n",
    "        if i > maxi:\n",
    "            maxi = i\n",
    "        if i < mini:\n",
    "            mini = i\n",
    "    print('El numero maximo es {} y el mínimo es {}'.format(maxi, mini))\n",
    "    \n",
    "\n",
    "calcularMaxMin([2,3,-1]) "
   ]
  },
  {
   "cell_type": "markdown",
   "id": "fa0af77a",
   "metadata": {},
   "source": [
    "7.  Diseñar una función que calcule el área y el perímetro de una circunferencia. \n",
    "\n"
   ]
  },
  {
   "cell_type": "code",
   "execution_count": 34,
   "id": "7a1258e0",
   "metadata": {},
   "outputs": [
    {
     "name": "stdout",
     "output_type": "stream",
     "text": [
      "El area de la circunferencia equivale a 28.2744, mientras que el perimetro es 18.8496\n"
     ]
    }
   ],
   "source": [
    "def arit(radio):\n",
    "    pi = 3.1416\n",
    "    print('El area de la circunferencia equivale a {}, mientras que el perimetro es {}'.format(pi * radio**2, 2*pi*radio))\n",
    "arit(3)"
   ]
  },
  {
   "cell_type": "markdown",
   "id": "e8bfb7d5",
   "metadata": {},
   "source": [
    "8. Crear una función  llamada “Login”, que recibe un nombre de usuario y una contraseña y devuelva Verdadero si el nombre de usuario es “usuario1” y la contraseña es “asdasd”. Además recibe el número de intentos que se ha intentado hacer login y si no se ha podido hacer login incremente este valor.\n",
    "\n"
   ]
  },
  {
   "cell_type": "code",
   "execution_count": 41,
   "id": "b7097224",
   "metadata": {},
   "outputs": [
    {
     "name": "stdout",
     "output_type": "stream",
     "text": [
      "ingrese nombre de usuario23\n",
      "ingrese contraseña de usuario213\n",
      "Usuario o Contraseña invalida, intente denuevo\n",
      "1\n",
      "ingrese nombre de usuariousuario1\n",
      "ingrese contraseña de usuarioasdasd\n",
      "Verdadero con el numero de intentos 2\n"
     ]
    }
   ],
   "source": [
    "def Login(usuario, contraseña):\n",
    "    intentos = 0\n",
    "    ind = True\n",
    "    while ind :\n",
    "        usuario = input('ingrese nombre de usuario')\n",
    "        contraseña = input('ingrese contraseña de usuario')\n",
    "        if usuario == 'usuario1' and contraseña == 'asdasd':\n",
    "            intentos += 1\n",
    "            ind = False\n",
    "            print('Verdadero con el numero de intentos', intentos)\n",
    "            \n",
    "        else:\n",
    "            print('Usuario o Contraseña invalida, intente denuevo')\n",
    "            intentos += 1\n",
    "            ind = True\n",
    "            print(intentos)\n",
    "\n",
    "\n",
    "Login(\"usuario\", \"contraseña\")  "
   ]
  },
  {
   "cell_type": "markdown",
   "id": "40401c4c",
   "metadata": {},
   "source": [
    "9. Crear una función recursiva que permita calcular el factorial de un número. Realiza un programa principal donde se lea un entero y se muestre el resultado del factorial. Revise la lección de funciones.\n",
    "\n"
   ]
  },
  {
   "cell_type": "code",
   "execution_count": 5,
   "id": "ad56e46f",
   "metadata": {},
   "outputs": [
    {
     "data": {
      "text/plain": [
       "3628800"
      ]
     },
     "execution_count": 5,
     "metadata": {},
     "output_type": "execute_result"
    }
   ],
   "source": [
    "def fact(x):\n",
    "    if x <= 1:\n",
    "        return 1\n",
    "    else:\n",
    "        return x* fact(x-1)\n",
    "fact(10)"
   ]
  },
  {
   "cell_type": "markdown",
   "id": "a52c9384",
   "metadata": {},
   "source": [
    "10 Escribir dos funciones que permitan calcular:\n",
    "La cantidad de segundos en un tiempo dado en horas, minutos y segundos.\n",
    "La cantidad de horas, minutos y segundos de un tiempo dado en segundos\n",
    "\n"
   ]
  },
  {
   "cell_type": "code",
   "execution_count": 22,
   "id": "19cadb3d",
   "metadata": {},
   "outputs": [
    {
     "name": "stdout",
     "output_type": "stream",
     "text": [
      "Tiempo en Horas: 1:40:10\n",
      "Tiempo en segundos: 6010\n",
      "Tiempo en Horas: 0:05:15\n",
      "Tiempo en segundos: 315\n",
      "Tiempo en Horas: 0:00:32\n",
      "Tiempo en segundos: 32\n",
      "**************************************************\n",
      "Tiempo en segundos: 77777\n",
      "Tiempo en Horas: 21 Horas 36 Minutos 17 Segundos\n",
      "None\n",
      "Tiempo en segundos: 88888\n",
      "Tiempo en Horas: 24 Horas 41 Minutos 28 Segundos\n",
      "None\n",
      "Tiempo en segundos: 99999\n",
      "Tiempo en Horas: 27 Horas 46 Minutos 39 Segundos\n",
      "None\n"
     ]
    }
   ],
   "source": [
    "def sec_to_h(x):\n",
    "    print('Tiempo en segundos:', x)\n",
    "    # get min and seconds first\n",
    "    mm, ss = divmod(x, 60)\n",
    "    # Get hours\n",
    "    hh, mm= divmod(mm, 60)\n",
    "    print('Tiempo en Horas:', hh, 'Horas', mm, 'Minutos', ss, 'Segundos')\n",
    "    \n",
    "def seconds(time_str):\n",
    "    print('Tiempo en Horas:', time_str)\n",
    "    # split in hh, mm, ss\n",
    "    hh, mm, ss = time_str.split(':')\n",
    "    return int(hh) * 3600 + int(mm) * 60 + int(ss)\n",
    "\n",
    "print('Tiempo en segundos:', seconds('1:40:10'))\n",
    "print('Tiempo en segundos:', seconds('0:05:15'))\n",
    "print('Tiempo en segundos:', seconds('0:00:32'))\n",
    "print('*'*50)\n",
    "print(sec_to_h(77777));\n",
    "print(sec_to_h(88888));\n",
    "print(sec_to_h(99999));\n"
   ]
  },
  {
   "cell_type": "markdown",
   "id": "1778652d",
   "metadata": {},
   "source": [
    "11. Crea una función  que lea una tupla, invierta los valores de la tupla y regrese una nueva tupla invirtiendo los valores. Recuerde que las tuplas son inmutables.\n",
    "\n"
   ]
  },
  {
   "cell_type": "code",
   "execution_count": 7,
   "id": "e03e72af",
   "metadata": {},
   "outputs": [
    {
     "name": "stdout",
     "output_type": "stream",
     "text": [
      "(5, 4, 3, 2, 1)\n"
     ]
    }
   ],
   "source": [
    "def inv_tup(x):\n",
    "    lst1 = list(x)\n",
    "    lst2 = []\n",
    "    for i in lst1:\n",
    "        lst2.append(lst1[-i])\n",
    "    lst2 = tuple(lst2)\n",
    "    print(lst2)\n",
    "inv_tup((1,2,3,4,5))"
   ]
  },
  {
   "cell_type": "markdown",
   "id": "3bb11e2b",
   "metadata": {},
   "source": [
    "12. Escriba una función que lea una lista y calcule la media geométrica de sus valores, usando funtools.reduce."
   ]
  },
  {
   "cell_type": "code",
   "execution_count": 26,
   "id": "eb789394",
   "metadata": {},
   "outputs": [
    {
     "data": {
      "text/plain": [
       "6.565893258975353"
      ]
     },
     "execution_count": 26,
     "metadata": {},
     "output_type": "execute_result"
    }
   ],
   "source": [
    "from functools import reduce\n",
    "\n",
    "def g_mean(n):\n",
    "    \"\"\"Find the geometric mean for iterable n.\"\"\"\n",
    "\n",
    "    # Make a list with every element in n that != 0.\n",
    "    l = [e for e in n if e !=0]\n",
    "\n",
    "    tot = reduce(lambda a, b: a * b , l) # Multiply all elements in l.\n",
    "    return tot**(1/(len(l)))\n",
    "\n",
    "g_mean([1,2,3,3,4,4,5,5,6,6,66,77,32])"
   ]
  }
 ],
 "metadata": {
  "kernelspec": {
   "display_name": "Python 3 (ipykernel)",
   "language": "python",
   "name": "python3"
  },
  "language_info": {
   "codemirror_mode": {
    "name": "ipython",
    "version": 3
   },
   "file_extension": ".py",
   "mimetype": "text/x-python",
   "name": "python",
   "nbconvert_exporter": "python",
   "pygments_lexer": "ipython3",
   "version": "3.9.12"
  }
 },
 "nbformat": 4,
 "nbformat_minor": 5
}
