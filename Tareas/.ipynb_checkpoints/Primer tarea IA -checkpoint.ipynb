{
 "cells": [
  {
   "cell_type": "markdown",
   "id": "41a33a98",
   "metadata": {},
   "source": [
    "[![Open in Colab](https://colab.research.google.com/assets/colab-badge.svg)](https://colab.research.google.com/github/sgonzalezve/Diplomado_Ciencia_Datos/blob/master/Tareas/Primer%20tarea%20IA%20.ipynb)"
   ]
  },
  {
   "cell_type": "markdown",
   "id": "bb4421d0",
   "metadata": {},
   "source": [
    "<img src = \"Logounal.jpg\" width=\"220\">"
   ]
  },
  {
   "cell_type": "markdown",
   "id": "fa13dcd9",
   "metadata": {},
   "source": [
    "## Una introducción a la correlación entre variables aleatorias"
   ]
  },
  {
   "cell_type": "markdown",
   "id": "cda8b1c5",
   "metadata": {},
   "source": [
    "#### Presentación del autor\n",
    "\n",
    "Mi nombre es Sergio Andrés González Velandia, soy un estudiante apasionado de estadística, actualmente cursando séptimo semestre del pregrado en Estadística en la Universidad Nacional de Colombia, dentro de mis intereses se encuentra el análisis multivariado, las series de tiempo y los diseños de experimentos. He tenido la oportunidad de apoyar en la implementación de acciones Conpes 4005 política nacional para la inclusión y la educación económica y financiera, en particular, el diseño de instrumentos financieros para Mypimes y población vulnerable. \n",
    "\n",
    "Una persona sociable con excelentes capacidades de investigación, expresión oral y escrita. Responsable y comprometido al trabajo en equipo, con gran interés y disposición al aprendizaje y retroalimentación.\n",
    "\n",
    " \n",
    "\n",
    "<img src = \"foto.jpg\" width=\"180\">"
   ]
  },
  {
   "cell_type": "markdown",
   "id": "95ed73cf",
   "metadata": {},
   "source": [
    "### El coeficiente de correlación lineal"
   ]
  },
  {
   "cell_type": "markdown",
   "id": "33f866ce",
   "metadata": {},
   "source": [
    "\n",
    "El coeficiente de correlación es una medida estadística que representa la fuerza de asociación y la dirección de una relación lineal entre dos variables aleatorias (necesariamente cuantitativas). Esta correlación a menudo se representa por la letra griega $\\rho$ (\"rho\"), que oscila entre -1 y 1. Es decir, la correlación cuantifica qué tan relacionadas están dos variables, de manera lineal.\n",
    "\n",
    "Para el cálculo de este coeficiente se debe disponer de parámetros que permitan cuantificar dicha relación en primera instancia. Por un lado, uno de estos parámetros es la covarianza, que indica el grado de variación conjunta de dos variables aleatorias. Cuando se calcula sobre una muestra de datos, recibe el nombre de covarianza muestral y se calcula como sigue"
   ]
  },
  {
   "cell_type": "markdown",
   "id": "e0fecd44",
   "metadata": {},
   "source": [
    "$$\n",
    "\\text { Covarianza muestral }=\\operatorname{Cov}(X, Y)=\\frac{\\sum_{i=1}^n\\left(x_i-\\bar{x}\\right)\\left(y_i-\\bar{y}\\right)}{N-1}\n",
    "$$"
   ]
  },
  {
   "cell_type": "markdown",
   "id": "0afb2350",
   "metadata": {},
   "source": [
    "Siendo $\\bar{x}$ e $\\bar{y}$ la media de cada variable y $x_i$ e $y_i$ el valor de las variables para la observación $i$.\n",
    "La covarianza muestral depende de las escalas en que se miden las variables estudiadas, por lo tanto, no es comparable entre distintos pares de variables. \n",
    "\n",
    "Para poder hacer comparaciones se debe estandarizar la covarianza muestral, generando lo que se conoce como coeficientes de correlación.\n",
    "\n",
    "Existen diferentes tipos, de entre ellos el coeficiente de Pearson, Rho de Spearman y Tau de Kendall. Estos e disponen en diversas situaciones, sin embargo comparten algunas propiedades entre las cuales\n",
    "\n",
    "- Todos ellos varían entre +1 y -1. Siendo +1 una correlación positiva perfecta y -1 una correlación negativa perfecta.\n",
    "\n",
    "- Se emplean como medida de fuerza de asociación (tamaño del efecto):\n",
    "\n",
    "- 0: asociación nula.\n",
    "\n",
    "- 0.1: asociación pequeña.\n",
    "\n",
    "- 0.3: asociación mediana.\n",
    "\n",
    "- 0.5: asociación moderada.\n",
    "\n",
    "- 0.7: asociación alta.\n",
    "\n",
    "- 0.9: asociación muy alta.\n",
    "\n",
    "Una correlación positiva indica que a medida que aumenta una variable, la otra tiende a aumentar también. Por ejemplo, puede existir una correlación positiva entre la altura y el peso, en la que los individuos más altos tienden a pesar más que los más bajos. Una correlación negativa indica que a medida que aumenta una variable, la otra tiende a disminuir. Por ejemplo, puede haber una correlación negativa entre la edad y la forma física, ya que a medida que las personas envejecen, su forma física puede disminuir.\n",
    "\n",
    "La correlación puede calcularse utilizando varios métodos, como el coeficiente de correlación de Pearson, la correlación de rangos de Spearman y la correlación tau de Kendall. La elección del método depende del tipo de datos que se analicen y de las suposiciones que se hagan sobre la relación entre las variables."
   ]
  },
  {
   "cell_type": "markdown",
   "id": "62d59f94",
   "metadata": {},
   "source": [
    "#### Coeficiente de correlación de Pearson:\n",
    "Es la covarianza estandarizada, y su ecuación difiere dependiendo de si se aplica a una muestra, Coeficiente de Pearson muestral ( $r$, o si se aplica la población Coeficiente de Pearson poblacional ( $\\rho$ ).\n",
    "$$\n",
    "\\begin{gathered}\n",
    "\\rho=\\frac{\\operatorname{Cov}(X, Y)}{\\sigma_x \\sigma_y} \\\\\n",
    "r_{x y}=\\frac{\\sum_{i=1}^n\\left(x_i-\\bar{x}\\right)\\left(y_i-\\bar{y}\\right)}{\\sqrt{\\sum_{i=1}^n\\left(x_i-\\bar{x}\\right)^2 \\sum_{i=1}^n\\left(y_i-\\bar{y}\\right)^2}}\n",
    "\\end{gathered}\n",
    "$$"
   ]
  },
  {
   "cell_type": "markdown",
   "id": "835950f3",
   "metadata": {},
   "source": [
    "#### Coeficiente de Spearman:\n",
    "Existe una diferencia adicional con respecto a Pearson. El coeficiente de Spearman requiere que la relación entre las variables sea monótona, es decir, que cuando una variable crece la otra también lo hace o cuando una crece la otra decrece (que la tendencia sea constante). Este concepto no es exactamente el mismo que linealidad.\n",
    "$$\n",
    "r_s=1-\\frac{6 \\sum d_i^2}{n\\left(n^2-1\\right)},\n",
    "$$\n",
    "Siendo $d_i$ la distancia entre los rangos de cada observación $\\left(x_i-y_i\\right)$ y $n$ el número de observaciones."
   ]
  },
  {
   "cell_type": "markdown",
   "id": "58132e0a",
   "metadata": {},
   "source": [
    "#### Coeficiente Tau de Kendall:\n",
    "Trabaja con rangos, por lo que requiere que las variables cuya relación se quiere estudiar sean ordinales o que se puedan transformar en rangos. Al ser no paramétrico, es otra alternativa al Coeficiente de correlación de Pearson cuando no se cumple la condición de normalidad. \n",
    "$$\n",
    "\\tau=\\frac{C-D}{\\frac{1}{2} n(n-1)},\n",
    "$$\n",
    "Siendo $C$ el número de pares concordantes, aquellos en los que el rango de la segunda variable es mayor que el rango de la primera variable. $D$ el número de pares discordantes, cuando el rango de la segunda es igual o menor que el rango de la primera variable."
   ]
  },
  {
   "cell_type": "markdown",
   "id": "eba344b6",
   "metadata": {},
   "source": [
    "#### Ejemplo\n",
    "Consideremos un conjunto de datos de altura (en centimetros) y peso (en kilogramos) de una muestra de 14 personas. Cabe esperar que exista una correlación positiva entre la altura y el peso, ya que las personas más altas tienden a pesar más que las más bajas. Para cuantificar esta relación, podemos calcular el coeficiente de correlación.\n"
   ]
  },
  {
   "cell_type": "code",
   "execution_count": 1,
   "id": "24c2783d",
   "metadata": {
    "scrolled": true
   },
   "outputs": [
    {
     "name": "stdout",
     "output_type": "stream",
     "text": [
      "El rho de Pearson equivale a   0.24946099258271562\n",
      "El rho de Spearman equivale a  0.32194065873826905\n",
      "El tau de Kendall equivale a   0.22346717438466365\n"
     ]
    }
   ],
   "source": [
    "# Haciendo uso de la librería de pandas\n",
    "import pandas as pd\n",
    "peso = pd.Series([75, 88, 81, 73, 97, 99, 85, 70, 94, 68, 87, 87, 82, 79])\n",
    "altura = pd.Series([1.7, 1.59, 1.66, 1.66, 1.68, 1.58, 1.56, 1.65, 1.72, 1.51, 1.73, 1.82, 1.58, 1.55])\n",
    "\n",
    "# Calculando la correlación entre las variables de la muestra\n",
    "\n",
    "print('El rho de Pearson equivale a  ', peso.corr(altura))                            # rho de Pearson\n",
    "print('El rho de Spearman equivale a ', peso.corr(altura, method='spearman'))         # rho de Spearman\n",
    "print('El tau de Kendall equivale a  ', peso.corr(altura, method='kendall'))          # tau de Kendall\n",
    "\n"
   ]
  },
  {
   "cell_type": "markdown",
   "id": "05fa225f",
   "metadata": {},
   "source": [
    "Utilizando el coeficiente de correlación de Pearson, encontramos que la correlación entre la altura y el peso es positiva pero no es muy cercana a 1, lo que indica una no muy fuerte relación positiva. Es decir, con base en la muestra se puede decir que a medida que aumenta la estatura, el peso tiende a aumentar también, y viceversa. Esto puede apreciarse en el diagrama de dispersión que se presenta acontinuación"
   ]
  },
  {
   "cell_type": "code",
   "execution_count": 2,
   "id": "b01aa94d",
   "metadata": {},
   "outputs": [
    {
     "data": {
      "image/png": "[encoded data removed]",
      "text/plain": [
       "<Figure size 432x288 with 1 Axes>"
      ]
     },
     "metadata": {
      "needs_background": "light"
     },
     "output_type": "display_data"
    }
   ],
   "source": [
    "df = pd.DataFrame({'peso': peso,\n",
    "                   'altura': altura})\n",
    "df.plot.scatter(x='peso', y='altura',  s = 100, c='purple');"
   ]
  },
  {
   "cell_type": "markdown",
   "id": "ede14460",
   "metadata": {},
   "source": [
    "### Referencias"
   ]
  },
  {
   "cell_type": "markdown",
   "id": "2aa66cdc",
   "metadata": {},
   "source": [
    "- Blanco Castañeda, L. [(2013)](https://repositorio.unal.edu.co/bitstream/handle/unal/53471/9587014499.PDF?sequence=2) . Probabilidad. Editorial UN.\n",
    "- Amat Rodrigo J. (2022) Correlación lineal y Regresión lineal simple by available under a Attribution 4.0 International (CC BY 4.0) at https://www.cienciadedatos.net/documentos/24_correlacion_y_regresion_lineal.\n",
    "- Montenegro, A. [(2023)](https://github.com/AprendizajeProfundo/diplomado-ciencia-de-datos/blob/main/Programaci%C3%B3n-Python/Cuadernos/py_0020_Tipos_Datos_Basicos.ipynb). Notas de clase. UN. "
   ]
  }
 ],
 "metadata": {
  "kernelspec": {
   "display_name": "Python 3 (ipykernel)",
   "language": "python",
   "name": "python3"
  },
  "language_info": {
   "codemirror_mode": {
    "name": "ipython",
    "version": 3
   },
   "file_extension": ".py",
   "mimetype": "text/x-python",
   "name": "python",
   "nbconvert_exporter": "python",
   "pygments_lexer": "ipython3",
   "version": "3.9.12"
  }
 },
 "nbformat": 4,
 "nbformat_minor": 5
}
