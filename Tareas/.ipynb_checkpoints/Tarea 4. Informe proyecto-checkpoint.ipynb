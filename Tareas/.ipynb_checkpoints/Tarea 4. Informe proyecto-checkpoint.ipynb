{
 "cells": [
  {
   "cell_type": "markdown",
   "id": "3870e17b",
   "metadata": {},
   "source": [
    "<img src = \"Logounal.jpg\" width=\"220\">"
   ]
  },
  {
   "cell_type": "markdown",
   "id": "27fad564",
   "metadata": {},
   "source": [
    "## Titulo: Comparación de métodos de predicción para series de macroeconómicas multivariadas"
   ]
  },
  {
   "cell_type": "markdown",
   "id": "af3dc246",
   "metadata": {},
   "source": [
    "#### Integrantes del grupo"
   ]
  },
  {
   "cell_type": "markdown",
   "id": "f78d422c",
   "metadata": {},
   "source": [
    "Sebastian Aristizabal"
   ]
  },
  {
   "cell_type": "markdown",
   "id": "afdbfe51",
   "metadata": {},
   "source": [
    "Mateo Cardona "
   ]
  },
  {
   "cell_type": "markdown",
   "id": "b60188cc",
   "metadata": {},
   "source": [
    "Sergio Gonzalez"
   ]
  },
  {
   "cell_type": "markdown",
   "id": "9216e0e5",
   "metadata": {},
   "source": [
    "### Objetivos\n",
    "#### Objetivo general"
   ]
  },
  {
   "cell_type": "markdown",
   "id": "c1bd5c2d",
   "metadata": {},
   "source": [
    "Evaluar la precisión de modelos de series de tiempo multivariadas en diferentes horizontes de predicción."
   ]
  },
  {
   "cell_type": "markdown",
   "id": "029d93fd",
   "metadata": {},
   "source": [
    "#### Objetivos específicos"
   ]
  },
  {
   "cell_type": "markdown",
   "id": "0c5cf955",
   "metadata": {},
   "source": [
    "- Integrar series de tiempo extraídas mediante técnicas de minería de datos tales como web-scraping a múltiples modelos de series de tiempo.\n",
    "\n",
    "- Comparar la precisión de modelos tradicionales de series de tiempo multivariadas frente a modelos de inteligencia artificial (ML).\n",
    "\n",
    "- Identificar el mejor modelo e hiperparámetros, que presente mejor desempeño de acuerdo a una función de perdida.\n"
   ]
  },
  {
   "cell_type": "markdown",
   "id": "d11a6760",
   "metadata": {},
   "source": [
    "### Problemas\n"
   ]
  },
  {
   "cell_type": "markdown",
   "id": "2a713088",
   "metadata": {},
   "source": [
    "En el contexto de series de tiempo multivariadas, las metodologías tradicionales de predicción en múltiples horizontes de tiempo han sido ampliamente aceptadas en las últimas décadas, dada la baja exigencia computacional, a expensas de rigideces en los supuestos distribucionales. En la última década, nuevas técnicas orientadas a la inteligencia artificial y machine learning se han desarrollado con el propósito de aumentar la flexibilidad en supuestos y poseer mayor capacidad predictiva, a costa de una alta exigencia computacional. Sin embargo, estas técnicas no han adquirido un amplio reconocimiento en la comunidad científica.  "
   ]
  },
  {
   "cell_type": "markdown",
   "id": "955d7869",
   "metadata": {},
   "source": [
    "### Datos disponibles"
   ]
  },
  {
   "cell_type": "markdown",
   "id": "49fa9d15",
   "metadata": {},
   "source": [
    "Un repositorio de datos macroeconomicos e indicadores de precios a nivel global se presenta en el siguiente link :https://www.cmegroup.com"
   ]
  },
  {
   "cell_type": "markdown",
   "id": "1d6d8d5e",
   "metadata": {},
   "source": [
    "Posibles variables a estudiar \n",
    "- Precio del petroleo West Texas Intermediate (WTI) y BRENT.\n",
    "- Tasa de cambio del Dolar al Euro.\n",
    "- Precio de la onza de oro en dolares.\n",
    "- Indicadores del mercado bursatil como S&P500 o Dow Jones."
   ]
  }
 ],
 "metadata": {
  "kernelspec": {
   "display_name": "Python 3 (ipykernel)",
   "language": "python",
   "name": "python3"
  },
  "language_info": {
   "codemirror_mode": {
    "name": "ipython",
    "version": 3
   },
   "file_extension": ".py",
   "mimetype": "text/x-python",
   "name": "python",
   "nbconvert_exporter": "python",
   "pygments_lexer": "ipython3",
   "version": "3.9.12"
  }
 },
 "nbformat": 4,
 "nbformat_minor": 5
}
